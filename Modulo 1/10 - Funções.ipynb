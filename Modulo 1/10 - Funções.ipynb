{
 "cells": [
  {
   "cell_type": "code",
   "execution_count": 1,
   "id": "ff8d3c3f-6c2c-4662-b8b6-0a80522a58b3",
   "metadata": {},
   "outputs": [],
   "source": [
    "def greetings():\n",
    "    print('Óla {}\\nTudo bem?'.format(name))"
   ]
  },
  {
   "cell_type": "code",
   "execution_count": 3,
   "id": "2f644545-765e-460d-ae23-abf4354f6f1b",
   "metadata": {},
   "outputs": [
    {
     "name": "stdin",
     "output_type": "stream",
     "text": [
      "Insira seu nome:  Luan\n"
     ]
    },
    {
     "name": "stdout",
     "output_type": "stream",
     "text": [
      "Óla Luan\n",
      "Tudo bem?\n"
     ]
    }
   ],
   "source": [
    "name=input('Insira seu nome: ')\n",
    "greetings()"
   ]
  },
  {
   "cell_type": "code",
   "execution_count": 11,
   "id": "ad4dcf34-0b2d-4090-b30e-ee8012371327",
   "metadata": {},
   "outputs": [],
   "source": [
    "def greetings2(str):\n",
    "    print('Óla {}\\nTudo bem?'.format(name))"
   ]
  },
  {
   "cell_type": "code",
   "execution_count": 13,
   "id": "fad667ae-23fc-4c5c-bed2-0b2cd3e8fa15",
   "metadata": {},
   "outputs": [
    {
     "name": "stdin",
     "output_type": "stream",
     "text": [
      "Insira seu nome:  Luan\n"
     ]
    },
    {
     "name": "stdout",
     "output_type": "stream",
     "text": [
      "Óla Luan\n",
      "Tudo bem?\n"
     ]
    }
   ],
   "source": [
    "greetings2(input('Insira seu nome: '))"
   ]
  },
  {
   "cell_type": "code",
   "execution_count": 29,
   "id": "2ba59420-0749-490c-80ec-0ea804333c67",
   "metadata": {},
   "outputs": [],
   "source": [
    "def greetingsConditional():\n",
    "    text=''\n",
    "    text=input()\n",
    "    if 'oi' in text:\n",
    "        name=input('Óla, qual seu nome?')\n",
    "        print('Bem-vindo {}\\nComo vai?'.format(name))\n",
    "    else:\n",
    "        print('Não entendi')"
   ]
  },
  {
   "cell_type": "code",
   "execution_count": 33,
   "id": "6cef03f9-4897-488c-b787-6d689f81350c",
   "metadata": {},
   "outputs": [
    {
     "name": "stdin",
     "output_type": "stream",
     "text": [
      " oioi\n",
      "Óla, qual seu nome? luan\n"
     ]
    },
    {
     "name": "stdout",
     "output_type": "stream",
     "text": [
      "Bem-vindo luan\n",
      "Como vai?\n"
     ]
    }
   ],
   "source": [
    "greetingsConditional()"
   ]
  },
  {
   "cell_type": "code",
   "execution_count": null,
   "id": "df3852cc-a268-462e-a3b8-4efbcecd1f9d",
   "metadata": {},
   "outputs": [],
   "source": []
  }
 ],
 "metadata": {
  "kernelspec": {
   "display_name": "Python 3 (ipykernel)",
   "language": "python",
   "name": "python3"
  },
  "language_info": {
   "codemirror_mode": {
    "name": "ipython",
    "version": 3
   },
   "file_extension": ".py",
   "mimetype": "text/x-python",
   "name": "python",
   "nbconvert_exporter": "python",
   "pygments_lexer": "ipython3",
   "version": "3.12.7"
  }
 },
 "nbformat": 4,
 "nbformat_minor": 5
}
