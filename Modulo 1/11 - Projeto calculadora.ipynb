{
 "cells": [
  {
   "cell_type": "code",
   "execution_count": 31,
   "id": "df3852cc-a268-462e-a3b8-4efbcecd1f9d",
   "metadata": {},
   "outputs": [],
   "source": [
    "def soma(v1, v2):\n",
    "    resultado = v1 + v2\n",
    "    print('{} + {} = {:.2f}\\n\\n'.format(v1,v2,resultado))\n",
    "\n",
    "def sub(v1, v2):\n",
    "    resultado = v1 - v2\n",
    "    print('{} - {} = {:.2f}\\n\\n'.format(v1,v2,resultado))\n",
    "\n",
    "def multi(v1, v2):\n",
    "    resultado = v1 * v2\n",
    "    print('{} * {} = {:.2f}\\n\\n'.format(v1,v2,resultado))\n",
    "\n",
    "def div(v1, v2):\n",
    "    resultado = v1 / v2\n",
    "    print('{} / {} = {:.2f}\\n\\n'.format(v1,v2,resultado))\n",
    "\n",
    "def menu():\n",
    "    print('1. Soma')\n",
    "    print('2. Subtração')\n",
    "    print('3. Multiplicação')\n",
    "    print('4. Divisão')\n",
    "    print('9. Sair\\n')\n",
    "    operacao = input('Escolha a operação: ')\n",
    "    return int(operacao)\n",
    "    "
   ]
  },
  {
   "cell_type": "code",
   "execution_count": 33,
   "id": "9459d969-6ab2-42f0-88b8-f5330dde0f90",
   "metadata": {},
   "outputs": [
    {
     "name": "stdout",
     "output_type": "stream",
     "text": [
      "Calculadora basica\n",
      "\n",
      "\n",
      "1. Soma\n",
      "2. Subtração\n",
      "3. Multiplicação\n",
      "4. Divisão\n",
      "9. Sair\n",
      "\n"
     ]
    },
    {
     "name": "stdin",
     "output_type": "stream",
     "text": [
      "Escolha a operação:  1\n",
      "Insira o primeiro valor:  2.75\n",
      "Insira o segundo valor:  2.999999999\n"
     ]
    },
    {
     "name": "stdout",
     "output_type": "stream",
     "text": [
      "2.75 + 2.999999999 = 5.75\n",
      "\n",
      "\n",
      "1. Soma\n",
      "2. Subtração\n",
      "3. Multiplicação\n",
      "4. Divisão\n",
      "9. Sair\n",
      "\n"
     ]
    },
    {
     "name": "stdin",
     "output_type": "stream",
     "text": [
      "Escolha a operação:  2\n",
      "Insira o primeiro valor:  9\n",
      "Insira o segundo valor:  7.654\n"
     ]
    },
    {
     "name": "stdout",
     "output_type": "stream",
     "text": [
      "9.0 - 7.654 = 1.35\n",
      "\n",
      "\n",
      "1. Soma\n",
      "2. Subtração\n",
      "3. Multiplicação\n",
      "4. Divisão\n",
      "9. Sair\n",
      "\n"
     ]
    },
    {
     "name": "stdin",
     "output_type": "stream",
     "text": [
      "Escolha a operação:  3\n",
      "Insira o primeiro valor:  3.14\n",
      "Insira o segundo valor:  3.14\n"
     ]
    },
    {
     "name": "stdout",
     "output_type": "stream",
     "text": [
      "3.14 * 3.14 = 9.86\n",
      "\n",
      "\n",
      "1. Soma\n",
      "2. Subtração\n",
      "3. Multiplicação\n",
      "4. Divisão\n",
      "9. Sair\n",
      "\n"
     ]
    },
    {
     "name": "stdin",
     "output_type": "stream",
     "text": [
      "Escolha a operação:  4\n",
      "Insira o primeiro valor:  10\n",
      "Insira o segundo valor:  3\n"
     ]
    },
    {
     "name": "stdout",
     "output_type": "stream",
     "text": [
      "10.0 / 3.0 = 3.33\n",
      "\n",
      "\n",
      "1. Soma\n",
      "2. Subtração\n",
      "3. Multiplicação\n",
      "4. Divisão\n",
      "9. Sair\n",
      "\n"
     ]
    },
    {
     "name": "stdin",
     "output_type": "stream",
     "text": [
      "Escolha a operação:  9\n"
     ]
    }
   ],
   "source": [
    "operacao =  0\n",
    "print('Calculadora basica\\n\\n')\n",
    "while operacao != 9:\n",
    "    operacao = menu()\n",
    "    if operacao == 1:\n",
    "        soma(float(input('Insira o primeiro valor: ')), float(input('Insira o segundo valor: ')))\n",
    "    elif operacao == 2:\n",
    "        sub(float(input('Insira o primeiro valor: ')), float(input('Insira o segundo valor: ')))\n",
    "    elif operacao == 3:\n",
    "        multi(float(input('Insira o primeiro valor: ')), float(input('Insira o segundo valor: ')))\n",
    "    elif operacao == 4:\n",
    "        div(float(input('Insira o primeiro valor: ')), float(input('Insira o segundo valor: ')))\n",
    "    elif operacao == 9:\n",
    "        break\n",
    "    \n",
    "    \n",
    "    "
   ]
  }
 ],
 "metadata": {
  "kernelspec": {
   "display_name": "Python 3 (ipykernel)",
   "language": "python",
   "name": "python3"
  },
  "language_info": {
   "codemirror_mode": {
    "name": "ipython",
    "version": 3
   },
   "file_extension": ".py",
   "mimetype": "text/x-python",
   "name": "python",
   "nbconvert_exporter": "python",
   "pygments_lexer": "ipython3",
   "version": "3.12.7"
  }
 },
 "nbformat": 4,
 "nbformat_minor": 5
}
