{
 "cells": [
  {
   "cell_type": "code",
   "execution_count": 5,
   "id": "4b2c8690-0cf9-4b31-a1c6-cd3e4f757b98",
   "metadata": {},
   "outputs": [
    {
     "name": "stdout",
     "output_type": "stream",
     "text": [
      "Vermelho\n",
      "Vermelho\n",
      "Vermelho\n",
      "Vermelho\n",
      "Vermelho\n",
      "Verde\n"
     ]
    }
   ],
   "source": [
    "contador=0\n",
    "while contador < 5:\n",
    "    print('Vermelho')\n",
    "    contador = contador + 1\n",
    "print('Verde')"
   ]
  },
  {
   "cell_type": "code",
   "execution_count": 7,
   "id": "9a128e9b-1329-432d-81d9-ab636b54bc2a",
   "metadata": {},
   "outputs": [],
   "source": [
    "import time"
   ]
  },
  {
   "cell_type": "code",
   "execution_count": 9,
   "id": "3d5cd304-27a3-4885-8ca4-bfcc1d9816a1",
   "metadata": {},
   "outputs": [
    {
     "name": "stdout",
     "output_type": "stream",
     "text": [
      "Vermelho\n",
      "Vermelho\n",
      "Vermelho\n",
      "Vermelho\n",
      "Vermelho\n",
      "Verde\n"
     ]
    }
   ],
   "source": [
    "contador=0\n",
    "while contador < 5:\n",
    "    print('Vermelho')\n",
    "    contador = contador + 1\n",
    "    time.sleep(3)\n",
    "print('Verde')"
   ]
  },
  {
   "cell_type": "code",
   "execution_count": 11,
   "id": "b9c1f019-7a58-4974-8620-34927fcb3c49",
   "metadata": {},
   "outputs": [
    {
     "name": "stdout",
     "output_type": "stream",
     "text": [
      "Vermelho\n",
      "Vermelho\n",
      "Vermelho\n",
      "Verde\n"
     ]
    }
   ],
   "source": [
    "contador=0\n",
    "while contador < 5:\n",
    "    print('Vermelho')\n",
    "    contador = contador + 1\n",
    "    time.sleep(3)\n",
    "    if contador == 3:\n",
    "        break\n",
    "print('Verde')"
   ]
  },
  {
   "cell_type": "code",
   "execution_count": 23,
   "id": "b62bb782-68b4-487c-b5c0-167ea1371456",
   "metadata": {},
   "outputs": [
    {
     "name": "stdin",
     "output_type": "stream",
     "text": [
      "Insira um numero para fatorar:  89\n"
     ]
    },
    {
     "name": "stdout",
     "output_type": "stream",
     "text": [
      "89!=16507955160908461081216919262453619309839666236496541854913520707833171034378509739399912570787600662729080382999756800000000000000000000\n"
     ]
    }
   ],
   "source": [
    "num=int(input('Insira um numero para fatorar: '))\n",
    "fatorial = num\n",
    "contador = 1\n",
    "while (num - contador) > 1:\n",
    "    fatorial = fatorial * (num - contador)\n",
    "    contador += 1\n",
    "print('{0}!={1}'.format(num, fatorial))"
   ]
  }
 ],
 "metadata": {
  "kernelspec": {
   "display_name": "Python 3 (ipykernel)",
   "language": "python",
   "name": "python3"
  },
  "language_info": {
   "codemirror_mode": {
    "name": "ipython",
    "version": 3
   },
   "file_extension": ".py",
   "mimetype": "text/x-python",
   "name": "python",
   "nbconvert_exporter": "python",
   "pygments_lexer": "ipython3",
   "version": "3.12.7"
  }
 },
 "nbformat": 4,
 "nbformat_minor": 5
}
