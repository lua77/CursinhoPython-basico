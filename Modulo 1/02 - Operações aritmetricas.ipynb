{
 "cells": [
  {
   "cell_type": "code",
   "execution_count": 1,
   "id": "e14cfe6b-d99b-427e-a7d6-e7248c90f4bc",
   "metadata": {},
   "outputs": [
    {
     "name": "stdout",
     "output_type": "stream",
     "text": [
      "7\n",
      "3\n",
      "2.5\n",
      "10\n",
      "25\n"
     ]
    }
   ],
   "source": [
    "print(5+2)\n",
    "print(5-2)\n",
    "print(5/2)\n",
    "print(5*2)\n",
    "print(5**2)"
   ]
  },
  {
   "cell_type": "code",
   "execution_count": 7,
   "id": "7930c0f2-b86d-410d-adc1-4bb3437f5c3e",
   "metadata": {},
   "outputs": [
    {
     "name": "stdout",
     "output_type": "stream",
     "text": [
      "2\n"
     ]
    }
   ],
   "source": [
    "print(5//2)\n",
    "#inteiro"
   ]
  },
  {
   "cell_type": "code",
   "execution_count": 5,
   "id": "27442b64-ec6b-4c68-9460-a8f6e4fe07c3",
   "metadata": {},
   "outputs": [
    {
     "name": "stdout",
     "output_type": "stream",
     "text": [
      "1\n"
     ]
    }
   ],
   "source": [
    "print(5%2)\n",
    "#sobra"
   ]
  },
  {
   "cell_type": "code",
   "execution_count": null,
   "id": "d5385dc8-6ce5-41d0-82cb-9cb4bd4afb7a",
   "metadata": {},
   "outputs": [],
   "source": []
  }
 ],
 "metadata": {
  "kernelspec": {
   "display_name": "Python 3 (ipykernel)",
   "language": "python",
   "name": "python3"
  },
  "language_info": {
   "codemirror_mode": {
    "name": "ipython",
    "version": 3
   },
   "file_extension": ".py",
   "mimetype": "text/x-python",
   "name": "python",
   "nbconvert_exporter": "python",
   "pygments_lexer": "ipython3",
   "version": "3.12.7"
  }
 },
 "nbformat": 4,
 "nbformat_minor": 5
}
