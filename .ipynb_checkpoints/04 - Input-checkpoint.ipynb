{
 "cells": [
  {
   "cell_type": "code",
   "execution_count": 1,
   "id": "b0b4e9ac-d6d6-490d-93f5-3e564ceb5317",
   "metadata": {},
   "outputs": [
    {
     "name": "stdin",
     "output_type": "stream",
     "text": [
      "Insira seu nome:  Luan\n"
     ]
    },
    {
     "data": {
      "text/plain": [
       "'Luan'"
      ]
     },
     "execution_count": 1,
     "metadata": {},
     "output_type": "execute_result"
    }
   ],
   "source": [
    "input('Insira seu nome: ')"
   ]
  },
  {
   "cell_type": "code",
   "execution_count": 7,
   "id": "9180004f-0293-4df3-8e18-673454d0ae11",
   "metadata": {},
   "outputs": [
    {
     "name": "stdin",
     "output_type": "stream",
     "text": [
      "Insira seu nome:  Luan\n"
     ]
    }
   ],
   "source": [
    "name=input('Insira seu nome: ')"
   ]
  },
  {
   "cell_type": "code",
   "execution_count": 13,
   "id": "68e90807-73af-4d84-a8a0-c360959962f9",
   "metadata": {},
   "outputs": [
    {
     "name": "stdout",
     "output_type": "stream",
     "text": [
      "Luan\n"
     ]
    }
   ],
   "source": [
    "print(name)"
   ]
  },
  {
   "cell_type": "code",
   "execution_count": 15,
   "id": "a02181ec-b4d5-4314-81a4-1b276b622af4",
   "metadata": {},
   "outputs": [
    {
     "name": "stdin",
     "output_type": "stream",
     "text": [
      "Informe sua idade:  16\n"
     ]
    }
   ],
   "source": [
    "Age=input('Informe sua idade: ')"
   ]
  },
  {
   "cell_type": "code",
   "execution_count": 19,
   "id": "b82897f2-46e6-4477-84ff-34eb95559ff7",
   "metadata": {},
   "outputs": [
    {
     "name": "stdout",
     "output_type": "stream",
     "text": [
      "16\n"
     ]
    }
   ],
   "source": [
    "print(Age)"
   ]
  },
  {
   "cell_type": "code",
   "execution_count": 23,
   "id": "04e9e1c1-d16f-44ad-972c-f3e22142b95c",
   "metadata": {},
   "outputs": [
    {
     "name": "stdout",
     "output_type": "stream",
     "text": [
      "Luan, 16 anos.\n"
     ]
    }
   ],
   "source": [
    "print(name + ', ' + Age + ' anos.')"
   ]
  },
  {
   "cell_type": "code",
   "execution_count": 27,
   "id": "f251e408-d442-43bd-97f4-b5cf9a3649bd",
   "metadata": {},
   "outputs": [
    {
     "name": "stdin",
     "output_type": "stream",
     "text": [
      "Informe sua idade:  20\n"
     ]
    }
   ],
   "source": [
    "idade=int(input('Informe sua idade: '))"
   ]
  },
  {
   "cell_type": "code",
   "execution_count": 31,
   "id": "78c615ea-d4d3-4520-bf3a-755a97619925",
   "metadata": {},
   "outputs": [
    {
     "name": "stdout",
     "output_type": "stream",
     "text": [
      "40\n"
     ]
    }
   ],
   "source": [
    "print(idade*2)"
   ]
  },
  {
   "cell_type": "code",
   "execution_count": 33,
   "id": "42d97bf2-6bf2-495d-858c-769e20784853",
   "metadata": {},
   "outputs": [
    {
     "data": {
      "text/plain": [
       "int"
      ]
     },
     "execution_count": 33,
     "metadata": {},
     "output_type": "execute_result"
    }
   ],
   "source": [
    "type(idade)"
   ]
  },
  {
   "cell_type": "code",
   "execution_count": null,
   "id": "3f4d44df-ee0e-4bad-8adb-31eeaade8c66",
   "metadata": {},
   "outputs": [],
   "source": []
  }
 ],
 "metadata": {
  "kernelspec": {
   "display_name": "Python 3 (ipykernel)",
   "language": "python",
   "name": "python3"
  },
  "language_info": {
   "codemirror_mode": {
    "name": "ipython",
    "version": 3
   },
   "file_extension": ".py",
   "mimetype": "text/x-python",
   "name": "python",
   "nbconvert_exporter": "python",
   "pygments_lexer": "ipython3",
   "version": "3.12.7"
  }
 },
 "nbformat": 4,
 "nbformat_minor": 5
}
