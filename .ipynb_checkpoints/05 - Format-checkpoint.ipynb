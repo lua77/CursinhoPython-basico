{
 "cells": [
  {
   "cell_type": "code",
   "execution_count": 9,
   "id": "926a2c4a-bf8e-455c-b15f-1d6236b950be",
   "metadata": {},
   "outputs": [],
   "source": [
    "sabor1='Chocolate'\n",
    "sabor2='Morango'\n",
    "sabor3='Baunilha'\n",
    "sabor4='Misto'"
   ]
  },
  {
   "cell_type": "code",
   "execution_count": 3,
   "id": "f4bc0495-a22a-467e-a4ea-c41c5eecff45",
   "metadata": {},
   "outputs": [
    {
     "name": "stdout",
     "output_type": "stream",
     "text": [
      "Eu gosto de sorvete de Chocolate\n"
     ]
    }
   ],
   "source": [
    "print('Eu gosto de sorvete de {}'.format(sabor1))"
   ]
  },
  {
   "cell_type": "code",
   "execution_count": 5,
   "id": "f7e47d8b-96f2-4436-b34b-40ff2a58e9e8",
   "metadata": {},
   "outputs": [
    {
     "name": "stdout",
     "output_type": "stream",
     "text": [
      "Eu gosto de sorvete de Morango\n"
     ]
    }
   ],
   "source": [
    "print(\"Eu gosto de sorvete de %s\" %sabor2)"
   ]
  },
  {
   "cell_type": "code",
   "execution_count": 11,
   "id": "3430bdc8-365c-4c82-82f2-9fccf02ab63d",
   "metadata": {},
   "outputs": [
    {
     "name": "stdout",
     "output_type": "stream",
     "text": [
      "Eu gosto de sorvete de Chocolate, você gosta de Baunilha e ele de Misto\n"
     ]
    }
   ],
   "source": [
    "print('Eu gosto de sorvete de {}, você gosta de {} e ele de {}'.format(sabor1, sabor3, sabor4))"
   ]
  },
  {
   "cell_type": "code",
   "execution_count": 15,
   "id": "0872da05-1f9b-4865-bab1-9b9938c72e61",
   "metadata": {},
   "outputs": [
    {
     "name": "stdout",
     "output_type": "stream",
     "text": [
      "3.3333333333333335\n"
     ]
    }
   ],
   "source": [
    "conta=10/3\n",
    "print(conta)"
   ]
  },
  {
   "cell_type": "code",
   "execution_count": 19,
   "id": "1bc43bc5-f33f-4286-b3da-187734c7102e",
   "metadata": {},
   "outputs": [
    {
     "name": "stdout",
     "output_type": "stream",
     "text": [
      "O resultado da conta é 3.333\n"
     ]
    }
   ],
   "source": [
    "print('O resultado da conta é {:.3f}'.format(conta))"
   ]
  },
  {
   "cell_type": "code",
   "execution_count": null,
   "id": "dcff9155-e7c4-43c4-a9d6-f828af070d15",
   "metadata": {},
   "outputs": [],
   "source": []
  }
 ],
 "metadata": {
  "kernelspec": {
   "display_name": "Python 3 (ipykernel)",
   "language": "python",
   "name": "python3"
  },
  "language_info": {
   "codemirror_mode": {
    "name": "ipython",
    "version": 3
   },
   "file_extension": ".py",
   "mimetype": "text/x-python",
   "name": "python",
   "nbconvert_exporter": "python",
   "pygments_lexer": "ipython3",
   "version": "3.12.7"
  }
 },
 "nbformat": 4,
 "nbformat_minor": 5
}
