{
 "cells": [
  {
   "cell_type": "code",
   "execution_count": 1,
   "id": "b4748eb1-2134-44a7-9755-7911d5c83fc6",
   "metadata": {},
   "outputs": [],
   "source": [
    "x=2\n",
    "y=3\n",
    "z=4"
   ]
  },
  {
   "cell_type": "code",
   "execution_count": 3,
   "id": "3cc7befd-aa02-43b4-9931-ebfcc197d920",
   "metadata": {},
   "outputs": [
    {
     "name": "stdout",
     "output_type": "stream",
     "text": [
      "2\n"
     ]
    }
   ],
   "source": [
    "print(x)"
   ]
  },
  {
   "cell_type": "code",
   "execution_count": 5,
   "id": "94a11171-8922-4857-9612-28658115fd73",
   "metadata": {},
   "outputs": [
    {
     "name": "stdout",
     "output_type": "stream",
     "text": [
      "6\n"
     ]
    }
   ],
   "source": [
    "print(x+z)"
   ]
  },
  {
   "cell_type": "code",
   "execution_count": 7,
   "id": "865525bb-cc8e-4756-b294-5d260ac3af8b",
   "metadata": {},
   "outputs": [
    {
     "name": "stdout",
     "output_type": "stream",
     "text": [
      "9\n"
     ]
    }
   ],
   "source": [
    "print(x+z+y)"
   ]
  },
  {
   "cell_type": "code",
   "execution_count": 9,
   "id": "7513232f-fedb-4d61-bdcd-8c5ec2788c12",
   "metadata": {},
   "outputs": [
    {
     "data": {
      "text/plain": [
       "True"
      ]
     },
     "execution_count": 9,
     "metadata": {},
     "output_type": "execute_result"
    }
   ],
   "source": [
    "x==2"
   ]
  },
  {
   "cell_type": "code",
   "execution_count": 11,
   "id": "695ceb13-2f69-4614-81ad-38dd373c67b7",
   "metadata": {},
   "outputs": [
    {
     "data": {
      "text/plain": [
       "False"
      ]
     },
     "execution_count": 11,
     "metadata": {},
     "output_type": "execute_result"
    }
   ],
   "source": [
    "y!=3"
   ]
  },
  {
   "cell_type": "code",
   "execution_count": 13,
   "id": "376636d8-4edc-4b7f-8b90-89d4b33e2d7f",
   "metadata": {},
   "outputs": [],
   "source": [
    "var=10\n",
    "var_=12.5"
   ]
  },
  {
   "cell_type": "code",
   "execution_count": 15,
   "id": "a44d232d-d4a7-4086-8113-080aadfb56c8",
   "metadata": {},
   "outputs": [
    {
     "name": "stdout",
     "output_type": "stream",
     "text": [
      "22.5\n"
     ]
    }
   ],
   "source": [
    "print(var + var_)"
   ]
  },
  {
   "cell_type": "code",
   "execution_count": 17,
   "id": "888e7386-0ed7-4b42-aca8-b31f5aa3cde1",
   "metadata": {},
   "outputs": [
    {
     "data": {
      "text/plain": [
       "float"
      ]
     },
     "execution_count": 17,
     "metadata": {},
     "output_type": "execute_result"
    }
   ],
   "source": [
    "type(var_)"
   ]
  },
  {
   "cell_type": "code",
   "execution_count": 19,
   "id": "4e994cdf-e580-42dd-815d-d5444049ab97",
   "metadata": {},
   "outputs": [
    {
     "data": {
      "text/plain": [
       "int"
      ]
     },
     "execution_count": 19,
     "metadata": {},
     "output_type": "execute_result"
    }
   ],
   "source": [
    "type(var)"
   ]
  },
  {
   "cell_type": "code",
   "execution_count": 21,
   "id": "c932581b-cb06-4753-a996-0399a2852b40",
   "metadata": {},
   "outputs": [
    {
     "name": "stdout",
     "output_type": "stream",
     "text": [
      "<class 'str'>\n"
     ]
    }
   ],
   "source": [
    "texto='testesss'\n",
    "print(type(texto))"
   ]
  },
  {
   "cell_type": "code",
   "execution_count": null,
   "id": "f5f91979-25a6-41d7-9b50-4eb490cb3eef",
   "metadata": {},
   "outputs": [],
   "source": []
  }
 ],
 "metadata": {
  "kernelspec": {
   "display_name": "Python 3 (ipykernel)",
   "language": "python",
   "name": "python3"
  },
  "language_info": {
   "codemirror_mode": {
    "name": "ipython",
    "version": 3
   },
   "file_extension": ".py",
   "mimetype": "text/x-python",
   "name": "python",
   "nbconvert_exporter": "python",
   "pygments_lexer": "ipython3",
   "version": "3.12.7"
  }
 },
 "nbformat": 4,
 "nbformat_minor": 5
}
