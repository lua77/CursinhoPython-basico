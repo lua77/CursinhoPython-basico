{
 "cells": [
  {
   "cell_type": "code",
   "execution_count": 1,
   "id": "ce2aa3c7-97d4-47b5-b9b5-38cf94988c4d",
   "metadata": {},
   "outputs": [
    {
     "name": "stdout",
     "output_type": "stream",
     "text": [
      "Hello World!\n"
     ]
    }
   ],
   "source": [
    "print('Hello World!')"
   ]
  },
  {
   "cell_type": "code",
   "execution_count": 3,
   "id": "66e6a5d8-8ba1-4c65-a59d-b1adcd74aeaf",
   "metadata": {},
   "outputs": [
    {
     "name": "stdout",
     "output_type": "stream",
     "text": [
      "Oh yeaaaaah\n",
      "Oh yeaaaaah2\n"
     ]
    }
   ],
   "source": [
    "print('Oh yeaaaaah')\n",
    "print('Oh yeaaaaah2')"
   ]
  },
  {
   "cell_type": "code",
   "execution_count": 5,
   "id": "d796205b-0815-4799-9d5e-cd0950bf41b5",
   "metadata": {},
   "outputs": [
    {
     "name": "stdout",
     "output_type": "stream",
     "text": [
      "Teste do print 123\n"
     ]
    }
   ],
   "source": [
    "print('Teste do print 123')"
   ]
  },
  {
   "cell_type": "code",
   "execution_count": 7,
   "id": "6d491d6e-b170-4397-8eca-2ab8e3be53d0",
   "metadata": {},
   "outputs": [
    {
     "name": "stdout",
     "output_type": "stream",
     "text": [
      "3.14\n"
     ]
    }
   ],
   "source": [
    "numero=3.14\n",
    "print(numero)"
   ]
  },
  {
   "cell_type": "code",
   "execution_count": 9,
   "id": "fc775286-01fd-4868-804f-d0ca34f1b3aa",
   "metadata": {},
   "outputs": [
    {
     "name": "stdout",
     "output_type": "stream",
     "text": [
      "comentario bao\n"
     ]
    }
   ],
   "source": [
    "#comentarios\n",
    "print('comentario bao')"
   ]
  },
  {
   "cell_type": "code",
   "execution_count": 11,
   "id": "c3212145-535e-4884-84f5-211cac064132",
   "metadata": {},
   "outputs": [
    {
     "name": "stdout",
     "output_type": "stream",
     "text": [
      "36.14\n"
     ]
    }
   ],
   "source": [
    "print(numero+33)"
   ]
  },
  {
   "cell_type": "code",
   "execution_count": null,
   "id": "c12c0e8c-c861-4bf8-a76a-29374dda9fa6",
   "metadata": {},
   "outputs": [],
   "source": []
  }
 ],
 "metadata": {
  "kernelspec": {
   "display_name": "Python 3 (ipykernel)",
   "language": "python",
   "name": "python3"
  },
  "language_info": {
   "codemirror_mode": {
    "name": "ipython",
    "version": 3
   },
   "file_extension": ".py",
   "mimetype": "text/x-python",
   "name": "python",
   "nbconvert_exporter": "python",
   "pygments_lexer": "ipython3",
   "version": "3.12.7"
  }
 },
 "nbformat": 4,
 "nbformat_minor": 5
}
