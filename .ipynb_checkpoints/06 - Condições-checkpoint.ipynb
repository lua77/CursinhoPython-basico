{
 "cells": [
  {
   "cell_type": "code",
   "execution_count": 7,
   "id": "4d712c66-9651-4231-b147-1027d5df5a4c",
   "metadata": {},
   "outputs": [
    {
     "name": "stdout",
     "output_type": "stream",
     "text": [
      "Aprovado\n"
     ]
    }
   ],
   "source": [
    "nota=6.1\n",
    "if nota < 6:\n",
    "    print('reprovado')"
   ]
  },
  {
   "cell_type": "code",
   "execution_count": 9,
   "id": "59a3ac92-30e8-4e60-b403-300efe40e2d5",
   "metadata": {},
   "outputs": [
    {
     "name": "stdout",
     "output_type": "stream",
     "text": [
      "Aprovado\n"
     ]
    }
   ],
   "source": [
    "nota=6.1\n",
    "if nota < 6:\n",
    "    print('reprovado')\n",
    "else:\n",
    "    print('Aprovado')"
   ]
  },
  {
   "cell_type": "code",
   "execution_count": 13,
   "id": "d424b4b5-100c-4766-bf2b-86dbcfb8c5cd",
   "metadata": {},
   "outputs": [
    {
     "name": "stdout",
     "output_type": "stream",
     "text": [
      "reprovado\n"
     ]
    }
   ],
   "source": [
    "nota=1\n",
    "if nota < 6:\n",
    "    print('reprovado')\n",
    "elif nota == 6:\n",
    "    print('recuperação')\n",
    "else:\n",
    "    print('Aprovado')"
   ]
  },
  {
   "cell_type": "code",
   "execution_count": 23,
   "id": "eef479c7-bba6-4d24-a8fa-f5b4e2cb2623",
   "metadata": {},
   "outputs": [
    {
     "name": "stdin",
     "output_type": "stream",
     "text": [
      "Digite sua nota:  2\n"
     ]
    },
    {
     "name": "stdout",
     "output_type": "stream",
     "text": [
      "Você foi reprovado\n"
     ]
    }
   ],
   "source": [
    "nota=int(input('Digite sua nota: '))\n",
    "if nota < 6:\n",
    "    print('Você foi reprovado')\n",
    "elif nota == 6:\n",
    "    print('Você está em recuperação')\n",
    "else:\n",
    "    print('Você foi aprovado')"
   ]
  }
 ],
 "metadata": {
  "kernelspec": {
   "display_name": "Python 3 (ipykernel)",
   "language": "python",
   "name": "python3"
  },
  "language_info": {
   "codemirror_mode": {
    "name": "ipython",
    "version": 3
   },
   "file_extension": ".py",
   "mimetype": "text/x-python",
   "name": "python",
   "nbconvert_exporter": "python",
   "pygments_lexer": "ipython3",
   "version": "3.12.7"
  }
 },
 "nbformat": 4,
 "nbformat_minor": 5
}
